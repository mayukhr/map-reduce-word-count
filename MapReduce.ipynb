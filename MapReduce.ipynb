{
 "cells": [
  {
   "cell_type": "code",
   "execution_count": 1,
   "metadata": {},
   "outputs": [
    {
     "name": "stderr",
     "output_type": "stream",
     "text": [
      "/opt/anaconda3/lib/python3.8/site-packages/sklearn/utils/deprecation.py:143: FutureWarning: The sklearn.feature_extraction.stop_words module is  deprecated in version 0.22 and will be removed in version 0.24. The corresponding classes / functions should instead be imported from sklearn.feature_extraction.text. Anything that cannot be imported from sklearn.feature_extraction.text is now part of the private API.\n",
      "  warnings.warn(message, FutureWarning)\n"
     ]
    }
   ],
   "source": [
    "import csv\n",
    "from sklearn.feature_extraction.stop_words import ENGLISH_STOP_WORDS\n"
   ]
  },
  {
   "cell_type": "code",
   "execution_count": 2,
   "metadata": {},
   "outputs": [
    {
     "name": "stdout",
     "output_type": "stream",
     "text": [
      "The Airavatesvara Shiva temple has a water tank. This tank has a connected channel that brings in Cauveri River water where Hindus gather annually to take a dip. The local mythology narrates how Airavata, or Indra's (malla) white elephant was restored with clean, white skin after he took a dip in this tank. This legend is carved in stone in the inner shrine, and this Indra's elephant gives this temple its name.\n",
      "\n",
      "Quite a simple entrance right? Not so distinguishable amongst the thousands of other brilliant temples in Tamilnadu and Karnataka.\n",
      "\n",
      "Even when I entered the gopuram, and saw the temple from a distance for first time, I could not fathom the brilliance awaiting for me in next few steps! Well, lets take a look at the main temple now\n",
      "\n",
      "This temple has a Diamond shaped layout. And this is the largest of the Hoysala Temples. But, lets not get carried away by its size and shape. I had no idea, the details(both in exterior and interior) can be so mesmerizing. I will give you an example at this point\n",
      "\n",
      "The temple has lights in the interior. And is only lit on the purchase of ticket of INR 30. Can be purchased inside the temple. I highly recommend this as flash photography might be prohibited inside the temple.\n",
      "\n",
      "To conclude, this temple is only 25 Kms from Chikmagaluru. Even if you are on a day trip, do pay a visit.\n"
     ]
    }
   ],
   "source": [
    "f = open('mytext.txt', 'r')\n",
    "file_contents = f.read()\n",
    "print (file_contents)\n",
    "\n",
    "local_paths = ['mytext.txt']\n",
    "docs = []\n",
    "for path in local_paths:\n",
    "    with open(path, 'r') as f:\n",
    "        docs.append(f.read())\n",
    "        \n",
    "def tokenize(message):\n",
    "    message = message.lower()\n",
    "    words = message.split()\n",
    "    return words\n"
   ]
  },
  {
   "cell_type": "code",
   "execution_count": 3,
   "metadata": {},
   "outputs": [],
   "source": [
    "#SECTION: MAPPING\n",
    "\n",
    "def sequential_word_count(documents, stop_words={}):\n",
    "    # Initialize an empty dictionary. In it we will put the words and the number\n",
    "    # of times they appear as a key, value\n",
    "    wordcount = {}\n",
    "    # MAP through the document.\n",
    "    for doc in documents:\n",
    "        doc_words = tokenize(doc)\n",
    "        # Map each word\n",
    "        for word in doc_words:\n",
    "            if word not in stop_words:\n",
    "                if word not in wordcount:\n",
    "                    wordcount[word] = 1\n",
    "                else:\n",
    "                    wordcount[word] += 1\n",
    "            else:\n",
    "                continue\n",
    "    return wordcount\n",
    "\n"
   ]
  },
  {
   "cell_type": "code",
   "execution_count": 4,
   "metadata": {},
   "outputs": [
    {
     "data": {
      "text/plain": [
       "[('temple', 7),\n",
       " ('water', 2),\n",
       " ('tank.', 2),\n",
       " (\"indra's\", 2),\n",
       " ('white', 2),\n",
       " ('elephant', 2),\n",
       " ('lets', 2),\n",
       " ('inside', 2),\n",
       " ('temple.', 2),\n",
       " ('airavatesvara', 1),\n",
       " ('shiva', 1),\n",
       " ('tank', 1),\n",
       " ('connected', 1),\n",
       " ('channel', 1),\n",
       " ('brings', 1),\n",
       " ('cauveri', 1),\n",
       " ('river', 1),\n",
       " ('hindus', 1),\n",
       " ('gather', 1),\n",
       " ('annually', 1),\n",
       " ('dip.', 1),\n",
       " ('local', 1),\n",
       " ('mythology', 1),\n",
       " ('narrates', 1),\n",
       " ('airavata,', 1),\n",
       " ('(malla)', 1),\n",
       " ('restored', 1),\n",
       " ('clean,', 1),\n",
       " ('skin', 1),\n",
       " ('took', 1),\n",
       " ('dip', 1),\n",
       " ('legend', 1),\n",
       " ('carved', 1),\n",
       " ('stone', 1),\n",
       " ('inner', 1),\n",
       " ('shrine,', 1),\n",
       " ('gives', 1),\n",
       " ('name.', 1),\n",
       " ('quite', 1),\n",
       " ('simple', 1),\n",
       " ('entrance', 1),\n",
       " ('right?', 1),\n",
       " ('distinguishable', 1),\n",
       " ('thousands', 1),\n",
       " ('brilliant', 1),\n",
       " ('temples', 1),\n",
       " ('tamilnadu', 1),\n",
       " ('karnataka.', 1),\n",
       " ('entered', 1),\n",
       " ('gopuram,', 1),\n",
       " ('saw', 1),\n",
       " ('distance', 1),\n",
       " ('time,', 1),\n",
       " ('fathom', 1),\n",
       " ('brilliance', 1),\n",
       " ('awaiting', 1),\n",
       " ('steps!', 1),\n",
       " ('well,', 1),\n",
       " ('look', 1),\n",
       " ('main', 1),\n",
       " ('diamond', 1),\n",
       " ('shaped', 1),\n",
       " ('layout.', 1),\n",
       " ('largest', 1),\n",
       " ('hoysala', 1),\n",
       " ('temples.', 1),\n",
       " ('but,', 1),\n",
       " ('carried', 1),\n",
       " ('away', 1),\n",
       " ('size', 1),\n",
       " ('shape.', 1),\n",
       " ('idea,', 1),\n",
       " ('details(both', 1),\n",
       " ('exterior', 1),\n",
       " ('interior)', 1),\n",
       " ('mesmerizing.', 1),\n",
       " ('example', 1),\n",
       " ('point', 1),\n",
       " ('lights', 1),\n",
       " ('interior.', 1),\n",
       " ('lit', 1),\n",
       " ('purchase', 1),\n",
       " ('ticket', 1),\n",
       " ('inr', 1),\n",
       " ('30.', 1),\n",
       " ('purchased', 1),\n",
       " ('highly', 1),\n",
       " ('recommend', 1),\n",
       " ('flash', 1),\n",
       " ('photography', 1),\n",
       " ('prohibited', 1),\n",
       " ('conclude,', 1),\n",
       " ('25', 1),\n",
       " ('kms', 1),\n",
       " ('chikmagaluru.', 1),\n",
       " ('day', 1),\n",
       " ('trip,', 1),\n",
       " ('pay', 1),\n",
       " ('visit.', 1)]"
      ]
     },
     "execution_count": 4,
     "metadata": {},
     "output_type": "execute_result"
    }
   ],
   "source": [
    "#SECTION: REDUCING\n",
    "#REDUCE to words and words count\n",
    "words_seq = sequential_word_count(docs, ENGLISH_STOP_WORDS)\n",
    "sorted_words_seq = sorted(words_seq.items(), key=lambda x: x[1], reverse=True)\n",
    "\n",
    "with open('output.csv', 'w') as f:\n",
    "    writer = csv.writer(f)\n",
    "    writer.writerows(sorted_words_seq)\n",
    "#print resultados\n",
    "sorted_words_seq"
   ]
  }
 ],
 "metadata": {
  "kernelspec": {
   "display_name": "Python 3",
   "language": "python",
   "name": "python3"
  },
  "language_info": {
   "codemirror_mode": {
    "name": "ipython",
    "version": 3
   },
   "file_extension": ".py",
   "mimetype": "text/x-python",
   "name": "python",
   "nbconvert_exporter": "python",
   "pygments_lexer": "ipython3",
   "version": "3.8.3"
  }
 },
 "nbformat": 4,
 "nbformat_minor": 2
}
